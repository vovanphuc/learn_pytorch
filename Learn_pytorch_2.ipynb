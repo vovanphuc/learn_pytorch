{
 "cells": [
  {
   "cell_type": "markdown",
   "metadata": {},
   "source": [
    "# Theo dõi lịch sử của tensor torch\n"
   ]
  },
  {
   "cell_type": "code",
   "execution_count": 1,
   "metadata": {},
   "outputs": [],
   "source": [
    "import torch"
   ]
  },
  {
   "cell_type": "markdown",
   "metadata": {},
   "source": [
    "Cách lưu đồ thị tính toán"
   ]
  },
  {
   "cell_type": "code",
   "execution_count": 2,
   "metadata": {},
   "outputs": [
    {
     "name": "stdout",
     "output_type": "stream",
     "text": [
      "tensor([[0.7717, 0.7736, 0.9060],\n",
      "        [0.5469, 0.6072, 0.1105],\n",
      "        [0.8270, 0.3252, 0.4099],\n",
      "        [0.4109, 0.3297, 0.9835],\n",
      "        [0.9155, 0.3710, 0.3406]], requires_grad=True)\n",
      "tensor([[3.7717, 3.7736, 3.9060],\n",
      "        [3.5469, 3.6072, 3.1105],\n",
      "        [3.8270, 3.3252, 3.4099],\n",
      "        [3.4109, 3.3297, 3.9835],\n",
      "        [3.9155, 3.3710, 3.3406]], grad_fn=<AddBackward0>)\n"
     ]
    }
   ],
   "source": [
    "#C1: set requires_grad = True\n",
    "x = torch.rand(5,3 , requires_grad=True)\n",
    "print (x)\n",
    "y = x + 3\n",
    "print (y)"
   ]
  },
  {
   "cell_type": "code",
   "execution_count": 3,
   "metadata": {},
   "outputs": [
    {
     "name": "stdout",
     "output_type": "stream",
     "text": [
      "<AddBackward0 object at 0x7f5907137e50>\n"
     ]
    }
   ],
   "source": [
    "print(y.grad_fn)"
   ]
  },
  {
   "cell_type": "code",
   "execution_count": 4,
   "metadata": {},
   "outputs": [
    {
     "name": "stdout",
     "output_type": "stream",
     "text": [
      "tensor([[14.2260, 14.2401, 15.2566],\n",
      "        [12.5808, 13.0120,  9.6755],\n",
      "        [14.6460, 11.0571, 11.6273],\n",
      "        [11.6340, 11.0872, 15.8686],\n",
      "        [15.3311, 11.3637, 11.1599]], grad_fn=<MulBackward0>)\n",
      "tensor(12.8511, grad_fn=<MeanBackward0>)\n"
     ]
    }
   ],
   "source": [
    "z = y*y\n",
    "k = z.mean()\n",
    "print(z)\n",
    "print(k)"
   ]
  },
  {
   "cell_type": "code",
   "execution_count": 5,
   "metadata": {},
   "outputs": [
    {
     "name": "stdout",
     "output_type": "stream",
     "text": [
      "tensor([[0.9721, 0.1717, 0.8092],\n",
      "        [0.3696, 0.1917, 0.0066],\n",
      "        [0.8254, 0.4133, 0.1532],\n",
      "        [0.8074, 0.1137, 0.4472],\n",
      "        [0.7376, 0.9934, 0.2971]])\n",
      "tensor([[2.9721, 2.1717, 2.8092],\n",
      "        [2.3696, 2.1917, 2.0066],\n",
      "        [2.8254, 2.4133, 2.1532],\n",
      "        [2.8074, 2.1137, 2.4472],\n",
      "        [2.7376, 2.9934, 2.2971]])\n",
      "tensor([[0.9721, 0.1717, 0.8092],\n",
      "        [0.3696, 0.1917, 0.0066],\n",
      "        [0.8254, 0.4133, 0.1532],\n",
      "        [0.8074, 0.1137, 0.4472],\n",
      "        [0.7376, 0.9934, 0.2971]], requires_grad=True)\n",
      "tensor([[2.9721, 2.1717, 2.8092],\n",
      "        [2.3696, 2.1917, 2.0066],\n",
      "        [2.8254, 2.4133, 2.1532],\n",
      "        [2.8074, 2.1137, 2.4472],\n",
      "        [2.7376, 2.9934, 2.2971]], grad_fn=<AddBackward0>)\n"
     ]
    }
   ],
   "source": [
    "#C2 : Sử dụng inplace function.\n",
    "a = torch.rand(5,3)\n",
    "print(a)\n",
    "b = a + 2\n",
    "print(b)\n",
    "a.requires_grad_(True)\n",
    "print(a)\n",
    "c = a+2\n",
    "print(c)"
   ]
  },
  {
   "cell_type": "markdown",
   "metadata": {},
   "source": [
    "# Gradients"
   ]
  },
  {
   "cell_type": "code",
   "execution_count": 6,
   "metadata": {},
   "outputs": [
    {
     "name": "stdout",
     "output_type": "stream",
     "text": [
      "tensor(8., grad_fn=<PowBackward0>)\n"
     ]
    }
   ],
   "source": [
    "x = torch.tensor(2. , requires_grad = True)\n",
    "y = x**3\n",
    "print(y)"
   ]
  },
  {
   "cell_type": "code",
   "execution_count": 7,
   "metadata": {},
   "outputs": [
    {
     "name": "stdout",
     "output_type": "stream",
     "text": [
      "None\n",
      "tensor(12.)\n"
     ]
    }
   ],
   "source": [
    "print(x.grad) # Kết quả trả về None do chưa có  backward\n",
    "y.backward() # đạo hàm\n",
    "            # Sau khi đạo hàm x^3 sẽ bằng 3x^2 với x = 2 => 3x^2 = 12\n",
    "print(x.grad)"
   ]
  },
  {
   "cell_type": "code",
   "execution_count": null,
   "metadata": {},
   "outputs": [],
   "source": []
  }
 ],
 "metadata": {
  "kernelspec": {
   "display_name": "Python 3",
   "language": "python",
   "name": "python3"
  },
  "language_info": {
   "codemirror_mode": {
    "name": "ipython",
    "version": 3
   },
   "file_extension": ".py",
   "mimetype": "text/x-python",
   "name": "python",
   "nbconvert_exporter": "python",
   "pygments_lexer": "ipython3",
   "version": "3.8.3"
  }
 },
 "nbformat": 4,
 "nbformat_minor": 4
}
