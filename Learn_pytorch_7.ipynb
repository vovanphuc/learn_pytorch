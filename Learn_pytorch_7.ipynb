{
 "cells": [
  {
   "cell_type": "code",
   "execution_count": 1,
   "metadata": {},
   "outputs": [],
   "source": [
    "import torch\n",
    "import torchvision\n",
    "import torchvision.transforms as transforms\n",
    "import torch.nn as nn\n",
    "import torch.nn.functional as F\n",
    "import torch.optim as optim"
   ]
  },
  {
   "cell_type": "code",
   "execution_count": 2,
   "metadata": {},
   "outputs": [],
   "source": [
    "transform=transforms.Compose([\n",
    "        transforms.ToTensor(),\n",
    "        transforms.Normalize((0.5), (0.5))\n",
    "        ])\n",
    "trainset = torchvision.datasets.MNIST(root = './MNIST', train = True, \n",
    "                                       download = True, transform = transform)\n",
    "trainloader = torch.utils.data.DataLoader(trainset, batch_size=64, shuffle=True)\n",
    "testset = torchvision.datasets.MNIST(root = './MNIST', train = False, \n",
    "                                       download = True, transform = transform)\n",
    "testloader = torch.utils.data.DataLoader(testset, batch_size=64, shuffle=True)\n",
    "\n",
    "classes = ('0','1','2','3','4','5','6','7','8','9')"
   ]
  },
  {
   "cell_type": "code",
   "execution_count": 3,
   "metadata": {},
   "outputs": [
    {
     "name": "stdout",
     "output_type": "stream",
     "text": [
      "torch.Size([64, 1, 28, 28])\n",
      "torch.Size([64])\n"
     ]
    }
   ],
   "source": [
    "\n",
    "dataiter = iter(trainloader)\n",
    "images, labels = dataiter.next()\n",
    "print(images.size())\n",
    "print(labels.size())"
   ]
  },
  {
   "cell_type": "code",
   "execution_count": 4,
   "metadata": {},
   "outputs": [
    {
     "name": "stdout",
     "output_type": "stream",
     "text": [
      "2\n"
     ]
    },
    {
     "data": {
      "image/png": "[encoded data removed]",
      "text/plain": [
       "<Figure size 432x288 with 1 Axes>"
      ]
     },
     "metadata": {
      "needs_background": "light"
     },
     "output_type": "display_data"
    }
   ],
   "source": [
    "import matplotlib.pyplot as plt\n",
    "\n",
    "plt.imshow(images[1].numpy().squeeze(), cmap = \"gray\")\n",
    "\n",
    "print(classes[labels[1]])"
   ]
  },
  {
   "cell_type": "code",
   "execution_count": 5,
   "metadata": {},
   "outputs": [],
   "source": [
    "# Mạng LeNet5\n",
    "class Net(nn.Module):\n",
    "    def __init__(self):\n",
    "        super(Net, self).__init__()\n",
    "        self.conv1 = nn.Conv2d(1, 6, 5)\n",
    "        self.relu1 = nn.ReLU()\n",
    "        self.pool1 = nn.MaxPool2d(2)\n",
    "        self.conv2 = nn.Conv2d(6, 16, 5)\n",
    "        self.relu2 = nn.ReLU()\n",
    "        self.pool2 = nn.MaxPool2d(2)\n",
    "        self.fc1 = nn.Linear(256, 120)\n",
    "        self.relu3 = nn.ReLU()\n",
    "        self.fc2 = nn.Linear(120, 84)\n",
    "        self.relu4 = nn.ReLU()\n",
    "        self.fc3 = nn.Linear(84, 10)\n",
    "        self.relu5 = nn.ReLU()\n",
    "\n",
    "    def forward(self, x):\n",
    "        y = self.conv1(x)\n",
    "        y = self.relu1(y)\n",
    "        y = self.pool1(y)\n",
    "        y = self.conv2(y)\n",
    "        y = self.relu2(y)\n",
    "        y = self.pool2(y)\n",
    "        y = y.view(y.shape[0], -1)\n",
    "        y = self.fc1(y)\n",
    "        y = self.relu3(y)\n",
    "        y = self.fc2(y)\n",
    "        y = self.relu4(y)\n",
    "        y = self.fc3(y)\n",
    "        y = self.relu5(y)\n",
    "        return y"
   ]
  },
  {
   "cell_type": "code",
   "execution_count": 6,
   "metadata": {},
   "outputs": [],
   "source": [
    "net = Net()\n",
    "criterion = nn.CrossEntropyLoss()\n",
    "optimizer = optim.SGD(net.parameters(), lr = 0.01, momentum = 0.1)\n"
   ]
  },
  {
   "cell_type": "code",
   "execution_count": 7,
   "metadata": {},
   "outputs": [
    {
     "name": "stdout",
     "output_type": "stream",
     "text": [
      "cuda:0\n"
     ]
    },
    {
     "data": {
      "text/plain": [
       "Net(\n",
       "  (conv1): Conv2d(1, 6, kernel_size=(5, 5), stride=(1, 1))\n",
       "  (relu1): ReLU()\n",
       "  (pool1): MaxPool2d(kernel_size=2, stride=2, padding=0, dilation=1, ceil_mode=False)\n",
       "  (conv2): Conv2d(6, 16, kernel_size=(5, 5), stride=(1, 1))\n",
       "  (relu2): ReLU()\n",
       "  (pool2): MaxPool2d(kernel_size=2, stride=2, padding=0, dilation=1, ceil_mode=False)\n",
       "  (fc1): Linear(in_features=256, out_features=120, bias=True)\n",
       "  (relu3): ReLU()\n",
       "  (fc2): Linear(in_features=120, out_features=84, bias=True)\n",
       "  (relu4): ReLU()\n",
       "  (fc3): Linear(in_features=84, out_features=10, bias=True)\n",
       "  (relu5): ReLU()\n",
       ")"
      ]
     },
     "execution_count": 7,
     "metadata": {},
     "output_type": "execute_result"
    }
   ],
   "source": [
    "device = torch.device(\"cuda:0\" if torch.cuda.is_available() else \"cpu\")\n",
    "print(device)\n",
    "net.to(device)"
   ]
  },
  {
   "cell_type": "code",
   "execution_count": 8,
   "metadata": {},
   "outputs": [
    {
     "name": "stdout",
     "output_type": "stream",
     "text": [
      "Epoch 0/10 - Step: 99/938 - Loss: 2.2997\n",
      "Epoch 0/10 - Step: 199/938 - Loss: 2.2975\n",
      "Epoch 0/10 - Step: 299/938 - Loss: 2.2947\n",
      "Epoch 0/10 - Step: 399/938 - Loss: 2.2908\n",
      "Epoch 0/10 - Step: 499/938 - Loss: 2.2852\n",
      "Epoch 0/10 - Step: 599/938 - Loss: 2.2763\n",
      "Epoch 0/10 - Step: 699/938 - Loss: 2.2566\n",
      "Epoch 0/10 - Step: 799/938 - Loss: 2.2121\n",
      "Epoch 0/10 - Step: 899/938 - Loss: 2.1400\n",
      "Epoch 1/10 - Step: 99/938 - Loss: 1.2197\n",
      "Epoch 1/10 - Step: 199/938 - Loss: 1.1006\n",
      "Epoch 1/10 - Step: 299/938 - Loss: 1.0076\n",
      "Epoch 1/10 - Step: 399/938 - Loss: 0.9228\n",
      "Epoch 1/10 - Step: 499/938 - Loss: 0.8638\n",
      "Epoch 1/10 - Step: 599/938 - Loss: 0.8145\n",
      "Epoch 1/10 - Step: 699/938 - Loss: 0.7741\n",
      "Epoch 1/10 - Step: 799/938 - Loss: 0.7423\n",
      "Epoch 1/10 - Step: 899/938 - Loss: 0.7133\n",
      "Epoch 2/10 - Step: 99/938 - Loss: 0.4568\n",
      "Epoch 2/10 - Step: 199/938 - Loss: 0.4488\n",
      "Epoch 2/10 - Step: 299/938 - Loss: 0.4411\n",
      "Epoch 2/10 - Step: 399/938 - Loss: 0.4405\n",
      "Epoch 2/10 - Step: 499/938 - Loss: 0.4334\n",
      "Epoch 2/10 - Step: 599/938 - Loss: 0.4305\n",
      "Epoch 2/10 - Step: 699/938 - Loss: 0.4210\n",
      "Epoch 2/10 - Step: 799/938 - Loss: 0.3942\n",
      "Epoch 2/10 - Step: 899/938 - Loss: 0.3713\n",
      "Epoch 3/10 - Step: 99/938 - Loss: 0.1739\n",
      "Epoch 3/10 - Step: 199/938 - Loss: 0.1676\n",
      "Epoch 3/10 - Step: 299/938 - Loss: 0.1624\n",
      "Epoch 3/10 - Step: 399/938 - Loss: 0.1589\n",
      "Epoch 3/10 - Step: 499/938 - Loss: 0.1579\n",
      "Epoch 3/10 - Step: 599/938 - Loss: 0.1533\n",
      "Epoch 3/10 - Step: 699/938 - Loss: 0.1528\n",
      "Epoch 3/10 - Step: 799/938 - Loss: 0.1509\n",
      "Epoch 3/10 - Step: 899/938 - Loss: 0.1474\n",
      "Epoch 4/10 - Step: 99/938 - Loss: 0.1130\n",
      "Epoch 4/10 - Step: 199/938 - Loss: 0.1172\n",
      "Epoch 4/10 - Step: 299/938 - Loss: 0.1158\n",
      "Epoch 4/10 - Step: 399/938 - Loss: 0.1146\n",
      "Epoch 4/10 - Step: 499/938 - Loss: 0.1143\n",
      "Epoch 4/10 - Step: 599/938 - Loss: 0.1137\n",
      "Epoch 4/10 - Step: 699/938 - Loss: 0.1125\n",
      "Epoch 4/10 - Step: 799/938 - Loss: 0.1122\n",
      "Epoch 4/10 - Step: 899/938 - Loss: 0.1115\n",
      "Epoch 5/10 - Step: 99/938 - Loss: 0.0947\n",
      "Epoch 5/10 - Step: 199/938 - Loss: 0.0945\n",
      "Epoch 5/10 - Step: 299/938 - Loss: 0.0952\n",
      "Epoch 5/10 - Step: 399/938 - Loss: 0.0943\n",
      "Epoch 5/10 - Step: 499/938 - Loss: 0.0935\n",
      "Epoch 5/10 - Step: 599/938 - Loss: 0.0930\n",
      "Epoch 5/10 - Step: 699/938 - Loss: 0.0945\n",
      "Epoch 5/10 - Step: 799/938 - Loss: 0.0939\n",
      "Epoch 5/10 - Step: 899/938 - Loss: 0.0930\n",
      "Epoch 6/10 - Step: 99/938 - Loss: 0.0937\n",
      "Epoch 6/10 - Step: 199/938 - Loss: 0.0875\n",
      "Epoch 6/10 - Step: 299/938 - Loss: 0.0896\n",
      "Epoch 6/10 - Step: 399/938 - Loss: 0.0876\n",
      "Epoch 6/10 - Step: 499/938 - Loss: 0.0864\n",
      "Epoch 6/10 - Step: 599/938 - Loss: 0.0857\n",
      "Epoch 6/10 - Step: 699/938 - Loss: 0.0846\n",
      "Epoch 6/10 - Step: 799/938 - Loss: 0.0831\n",
      "Epoch 6/10 - Step: 899/938 - Loss: 0.0818\n",
      "Epoch 7/10 - Step: 99/938 - Loss: 0.0745\n",
      "Epoch 7/10 - Step: 199/938 - Loss: 0.0723\n",
      "Epoch 7/10 - Step: 299/938 - Loss: 0.0759\n",
      "Epoch 7/10 - Step: 399/938 - Loss: 0.0735\n",
      "Epoch 7/10 - Step: 499/938 - Loss: 0.0749\n",
      "Epoch 7/10 - Step: 599/938 - Loss: 0.0738\n",
      "Epoch 7/10 - Step: 699/938 - Loss: 0.0731\n",
      "Epoch 7/10 - Step: 799/938 - Loss: 0.0727\n",
      "Epoch 7/10 - Step: 899/938 - Loss: 0.0728\n",
      "Epoch 8/10 - Step: 99/938 - Loss: 0.0632\n",
      "Epoch 8/10 - Step: 199/938 - Loss: 0.0646\n",
      "Epoch 8/10 - Step: 299/938 - Loss: 0.0633\n",
      "Epoch 8/10 - Step: 399/938 - Loss: 0.0664\n",
      "Epoch 8/10 - Step: 499/938 - Loss: 0.0672\n",
      "Epoch 8/10 - Step: 599/938 - Loss: 0.0662\n",
      "Epoch 8/10 - Step: 699/938 - Loss: 0.0661\n",
      "Epoch 8/10 - Step: 799/938 - Loss: 0.0663\n",
      "Epoch 8/10 - Step: 899/938 - Loss: 0.0661\n",
      "Epoch 9/10 - Step: 99/938 - Loss: 0.0645\n",
      "Epoch 9/10 - Step: 199/938 - Loss: 0.0632\n",
      "Epoch 9/10 - Step: 299/938 - Loss: 0.0646\n",
      "Epoch 9/10 - Step: 399/938 - Loss: 0.0628\n",
      "Epoch 9/10 - Step: 499/938 - Loss: 0.0618\n",
      "Epoch 9/10 - Step: 599/938 - Loss: 0.0615\n",
      "Epoch 9/10 - Step: 699/938 - Loss: 0.0617\n",
      "Epoch 9/10 - Step: 799/938 - Loss: 0.0620\n",
      "Epoch 9/10 - Step: 899/938 - Loss: 0.0614\n",
      "Finished Training\n"
     ]
    }
   ],
   "source": [
    "num_epochs = 10\n",
    "num_steps = len(trainloader)\n",
    "\n",
    "for epoch in range(num_epochs): # loop over the dataset multiple times\n",
    "    running_loss = 0.0\n",
    "    for i, data in enumerate(trainloader, 0):\n",
    "    # get the inputs, data is a list of [inputs, labels]\n",
    "        inputs, labels = data[0].to(device), data[1].to(device)\n",
    "        # zero the parameter gradients\n",
    "        optimizer.zero_grad()\n",
    "\n",
    "        # forward + backward + optimize\n",
    "        outputs = net(inputs)\n",
    "        loss = criterion(outputs, labels)\n",
    "        loss.backward()\n",
    "        optimizer.step()\n",
    "\n",
    "        # print statistics\n",
    "        running_loss += loss.item()\n",
    "\n",
    "        if (i + 1) % 100 == 0:\n",
    "            print(\"Epoch {}/{} - Step: {}/{} - Loss: {:.4f}\".format(\n",
    "                    epoch, num_epochs, i, num_steps, running_loss / (i + 1)))\n",
    "print('Finished Training')"
   ]
  },
  {
   "cell_type": "code",
   "execution_count": 12,
   "metadata": {},
   "outputs": [
    {
     "name": "stdout",
     "output_type": "stream",
     "text": [
      "8\n"
     ]
    },
    {
     "data": {
      "image/png": "[encoded data removed]",
      "text/plain": [
       "<Figure size 432x288 with 1 Axes>"
      ]
     },
     "metadata": {
      "needs_background": "light"
     },
     "output_type": "display_data"
    }
   ],
   "source": [
    "dataiter = iter(testloader)\n",
    "images, labels = dataiter.next()\n",
    "\n",
    "plt.imshow(images[1].numpy().squeeze(), cmap = \"gray\")\n",
    "\n",
    "images, labels = images.to(device), labels.to(device)\n",
    "outputs = net(images)\n",
    "\n",
    "_,  predicted = torch.max(outputs, 1)\n",
    "\n",
    "\n",
    "print(classes[predicted[1]])"
   ]
  },
  {
   "cell_type": "code",
   "execution_count": null,
   "metadata": {},
   "outputs": [],
   "source": []
  }
 ],
 "metadata": {
  "kernelspec": {
   "display_name": "Python 3",
   "language": "python",
   "name": "python3"
  },
  "language_info": {
   "codemirror_mode": {
    "name": "ipython",
    "version": 3
   },
   "file_extension": ".py",
   "mimetype": "text/x-python",
   "name": "python",
   "nbconvert_exporter": "python",
   "pygments_lexer": "ipython3",
   "version": "3.8.3"
  }
 },
 "nbformat": 4,
 "nbformat_minor": 4
}
