{
 "cells": [
  {
   "cell_type": "markdown",
   "metadata": {},
   "source": [
    "# Tensor trong Torch"
   ]
  },
  {
   "cell_type": "code",
   "execution_count": 1,
   "metadata": {
    "scrolled": true
   },
   "outputs": [
    {
     "data": {
      "text/plain": [
       "'1.5.1'"
      ]
     },
     "execution_count": 1,
     "metadata": {},
     "output_type": "execute_result"
    }
   ],
   "source": [
    "import torch\n",
    "torch.__version__"
   ]
  },
  {
   "cell_type": "code",
   "execution_count": 2,
   "metadata": {},
   "outputs": [
    {
     "data": {
      "text/plain": [
       "tensor([[3.9608e+28, 3.0950e-41, 3.9608e+28],\n",
       "        [3.0950e-41, 1.5975e-43, 0.0000e+00],\n",
       "        [1.6675e-43, 0.0000e+00, 4.0379e+28],\n",
       "        [3.0950e-41, 4.0379e+28, 3.0950e-41]])"
      ]
     },
     "execution_count": 2,
     "metadata": {},
     "output_type": "execute_result"
    }
   ],
   "source": [
    "# tạo ma trận trống\n",
    "x = torch.empty(4, 3)\n",
    "x"
   ]
  },
  {
   "cell_type": "code",
   "execution_count": 3,
   "metadata": {},
   "outputs": [
    {
     "name": "stdout",
     "output_type": "stream",
     "text": [
      "tensor([[0.9059, 0.4481, 0.9663],\n",
      "        [0.4279, 0.7903, 0.5990],\n",
      "        [0.4903, 0.1065, 0.5230],\n",
      "        [0.3170, 0.1645, 0.9951]])\n"
     ]
    }
   ],
   "source": [
    "# Khởi tạo một ma trận ngẫu nhiên\n",
    "x = torch.rand(4, 3)\n",
    "print(x)"
   ]
  },
  {
   "cell_type": "code",
   "execution_count": 4,
   "metadata": {},
   "outputs": [
    {
     "data": {
      "text/plain": [
       "torch.Size([4, 3])"
      ]
     },
     "execution_count": 4,
     "metadata": {},
     "output_type": "execute_result"
    }
   ],
   "source": [
    "# check size\n",
    "x.size()"
   ]
  },
  {
   "cell_type": "code",
   "execution_count": 5,
   "metadata": {},
   "outputs": [
    {
     "name": "stdout",
     "output_type": "stream",
     "text": [
      "tensor([[0.0547, 0.9222, 0.3149],\n",
      "        [0.2124, 0.9690, 0.7654],\n",
      "        [0.1835, 0.6610, 0.1479],\n",
      "        [0.7806, 0.9881, 0.7181]])\n",
      "tensor([[0.7731, 0.8900, 0.2032],\n",
      "        [0.6890, 0.6259, 0.2708],\n",
      "        [0.0431, 0.2189, 0.4063],\n",
      "        [0.0063, 0.0673, 0.9037]])\n",
      "tensor([[0.8278, 1.8122, 0.5181],\n",
      "        [0.9014, 1.5949, 1.0361],\n",
      "        [0.2267, 0.8800, 0.5542],\n",
      "        [0.7869, 1.0554, 1.6219]])\n",
      "tensor([[0.8278, 1.8122, 0.5181],\n",
      "        [0.9014, 1.5949, 1.0361],\n",
      "        [0.2267, 0.8800, 0.5542],\n",
      "        [0.7869, 1.0554, 1.6219]])\n"
     ]
    }
   ],
   "source": [
    "# phép cộng\n",
    "a = torch.rand(4, 3)\n",
    "print(a)\n",
    "b = torch.rand(4, 3)\n",
    "print(b)\n",
    "c = a+b\n",
    "print(c)\n",
    "print(a.add(b))"
   ]
  },
  {
   "cell_type": "code",
   "execution_count": 6,
   "metadata": {},
   "outputs": [
    {
     "name": "stdout",
     "output_type": "stream",
     "text": [
      "tensor([[0.7731, 0.8900, 0.2032],\n",
      "        [0.6890, 0.6259, 0.2708],\n",
      "        [0.0431, 0.2189, 0.4063],\n",
      "        [0.0063, 0.0673, 0.9037]])\n",
      "tensor([[0.8278, 1.8122, 0.5181],\n",
      "        [0.9014, 1.5949, 1.0361],\n",
      "        [0.2267, 0.8800, 0.5542],\n",
      "        [0.7869, 1.0554, 1.6219]])\n",
      "tensor([[0.8278, 1.8122, 0.5181],\n",
      "        [0.9014, 1.5949, 1.0361],\n",
      "        [0.2267, 0.8800, 0.5542],\n",
      "        [0.7869, 1.0554, 1.6219]])\n"
     ]
    }
   ],
   "source": [
    "# cộng và thay thế ngay trên y ( inplace)\n",
    "print(b)\n",
    "print(b.add_(a))\n",
    "print(b)"
   ]
  },
  {
   "cell_type": "code",
   "execution_count": 7,
   "metadata": {},
   "outputs": [
    {
     "name": "stdout",
     "output_type": "stream",
     "text": [
      "<class 'torch.Tensor'>\n",
      "<class 'numpy.ndarray'>\n"
     ]
    }
   ],
   "source": [
    "# chuyển torch sang numpy\n",
    "d = a.numpy()\n",
    "print(type(a))\n",
    "print(type(d))"
   ]
  },
  {
   "cell_type": "code",
   "execution_count": 8,
   "metadata": {},
   "outputs": [
    {
     "name": "stdout",
     "output_type": "stream",
     "text": [
      "<class 'numpy.ndarray'>\n",
      "<class 'torch.Tensor'>\n"
     ]
    }
   ],
   "source": [
    "# chuyển numpy sang torch\n",
    "import numpy as np\n",
    "e = np.random.rand(4,3)\n",
    "f = torch.from_numpy(e)\n",
    "print(type(e))\n",
    "print(type(f))"
   ]
  },
  {
   "cell_type": "code",
   "execution_count": 9,
   "metadata": {},
   "outputs": [
    {
     "name": "stdout",
     "output_type": "stream",
     "text": [
      "tensor([[1.9059, 1.4481, 1.9663],\n",
      "        [1.4279, 1.7903, 1.5990],\n",
      "        [1.4903, 1.1065, 1.5230],\n",
      "        [1.3170, 1.1645, 1.9951]], device='cuda:0')\n",
      "tensor([[1.9059, 1.4481, 1.9663],\n",
      "        [1.4279, 1.7903, 1.5990],\n",
      "        [1.4903, 1.1065, 1.5230],\n",
      "        [1.3170, 1.1645, 1.9951]], dtype=torch.float64)\n"
     ]
    }
   ],
   "source": [
    "# tính toán trên cuda\n",
    "if torch.cuda.is_available():\n",
    "    device = torch.device(\"cuda\") # Khởi tạo một cuda device object\n",
    "    y = torch.ones_like(x, device = device) # Trực tiếp khởi tạo một tensor trên GPU\n",
    "    x = x.to(device) # Truyền giá trị tensor vào thiết bị. Có thể truyền vào tên thiết bị: .to(\"cuda\")\n",
    "    z = x + y\n",
    "    print(z)\n",
    "    print(z.to(\"cpu\", torch.double)) # Trong hàm .to() ta có thể thay định dạng dữ liệu."
   ]
  },
  {
   "cell_type": "code",
   "execution_count": null,
   "metadata": {},
   "outputs": [],
   "source": []
  }
 ],
 "metadata": {
  "kernelspec": {
   "display_name": "Python 3",
   "language": "python",
   "name": "python3"
  },
  "language_info": {
   "codemirror_mode": {
    "name": "ipython",
    "version": 3
   },
   "file_extension": ".py",
   "mimetype": "text/x-python",
   "name": "python",
   "nbconvert_exporter": "python",
   "pygments_lexer": "ipython3",
   "version": "3.8.3"
  }
 },
 "nbformat": 4,
 "nbformat_minor": 4
}
