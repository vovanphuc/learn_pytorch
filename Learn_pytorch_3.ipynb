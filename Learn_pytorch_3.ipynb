{
 "cells": [
  {
   "cell_type": "markdown",
   "metadata": {},
   "source": [
    "# Autograd\n",
    "Chức năng của autograd: Tự động tính toán đạo hàm trên toàn bộ các toán tử của tensors. Nó là một framework được định nghĩa trong quá trình chạy, có nghĩa rằng quá trình lan truyền ngược được xác định khi mà code được chạy, và do đó mỗi vòng lặp có thể có kết quả thay đổi tham số theo lan truyền ngược khác nhau."
   ]
  },
  {
   "cell_type": "markdown",
   "metadata": {},
   "source": [
    "ví dụ : \n",
    "Cho đồ thị tính toán như hình. Đầu vào [x,y,z] = [5,3,7]. Tất cả các trọng số w đều được khởi tạo là 0.5. Tính kết quả (biến result) khi ta cho [x,y,z] qua mạng (forward) và gradient của mỗi trọng số w (backward).\n",
    "<img src=\"https://images.viblo.asia/b2015661-42b6-4992-9ab9-3a9036ddc206.png\">"
   ]
  },
  {
   "cell_type": "code",
   "execution_count": 10,
   "metadata": {},
   "outputs": [],
   "source": [
    "import torch\n",
    "from torch.autograd import Variable"
   ]
  },
  {
   "cell_type": "code",
   "execution_count": 16,
   "metadata": {},
   "outputs": [],
   "source": [
    "x = Variable(torch.FloatTensor([5]), requires_grad=True)\n",
    "y = Variable(torch.FloatTensor([3]), requires_grad=True)\n",
    "z = Variable(torch.FloatTensor([7]), requires_grad=True)\n",
    "w1 = Variable(torch.FloatTensor([0.5]), requires_grad=True)\n",
    "w2 = Variable(torch.FloatTensor([0.5]), requires_grad=True)\n",
    "w3 = Variable(torch.FloatTensor([0.5]), requires_grad=True)\n",
    "w4 = Variable(torch.FloatTensor([0.5]), requires_grad=True)\n",
    "w5 = Variable(torch.FloatTensor([0.5]), requires_grad=True)\n"
   ]
  },
  {
   "cell_type": "code",
   "execution_count": 17,
   "metadata": {},
   "outputs": [],
   "source": [
    "o1 = x*w1 * y*w2\n",
    "o2 = o1*w4 + z*w3\n",
    "result = o2*w5"
   ]
  },
  {
   "cell_type": "code",
   "execution_count": 21,
   "metadata": {},
   "outputs": [
    {
     "name": "stdout",
     "output_type": "stream",
     "text": [
      "result 2.6875\n"
     ]
    }
   ],
   "source": [
    "# Forward\n",
    "print('result', result.item())"
   ]
  },
  {
   "cell_type": "markdown",
   "metadata": {},
   "source": [
    "giải thích Forward :\n",
    "\n",
    "result = (( x * w1  *  y * w2 )* w4 + y * w3 )* w5"
   ]
  },
  {
   "cell_type": "code",
   "execution_count": 19,
   "metadata": {},
   "outputs": [],
   "source": [
    "#Backward\n",
    "result.backward()"
   ]
  },
  {
   "cell_type": "code",
   "execution_count": 20,
   "metadata": {},
   "outputs": [
    {
     "name": "stdout",
     "output_type": "stream",
     "text": [
      "tensor([1.8750])\n",
      "tensor([1.8750])\n",
      "tensor([3.5000])\n",
      "tensor([1.8750])\n",
      "tensor([5.3750])\n"
     ]
    }
   ],
   "source": [
    "print(w1.grad)\n",
    "print(w2.grad)\n",
    "print(w3.grad)\n",
    "print(w4.grad)\n",
    "print(w5.grad)"
   ]
  },
  {
   "cell_type": "markdown",
   "metadata": {},
   "source": [
    "Công thức đạo hàm hợp : f'(u(x)) = f'(u) * u'(x)\n",
    "\n",
    "Giải thích backward :\n",
    "\n",
    "w5 = f'(w5) = ( o2 * w5 )' = o2 = (( x * w1 * y * w2 )* w4 + y * w3 )\n",
    "\n",
    "w4 = f'(o2) * o2'(w4) = w5 * o1 = \n",
    "\n",
    "w3 = f'(o2) * o2'(w3) = w5 * z  =\n",
    "\n",
    "w2 = g'(o1) * o1'(w2)\n",
    "\n",
    "w1 = g'(o1) * o1'(w1)"
   ]
  },
  {
   "cell_type": "code",
   "execution_count": null,
   "metadata": {},
   "outputs": [],
   "source": []
  }
 ],
 "metadata": {
  "kernelspec": {
   "display_name": "Python 3",
   "language": "python",
   "name": "python3"
  },
  "language_info": {
   "codemirror_mode": {
    "name": "ipython",
    "version": 3
   },
   "file_extension": ".py",
   "mimetype": "text/x-python",
   "name": "python",
   "nbconvert_exporter": "python",
   "pygments_lexer": "ipython3",
   "version": "3.8.3"
  }
 },
 "nbformat": 4,
 "nbformat_minor": 4
}
